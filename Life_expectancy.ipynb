{
    "cells": [
        {
            "cell_type": "code",
            "execution_count": 1,
            "metadata": {},
            "outputs": [],
            "source": "#importing necessary libaries\nimport pandas as pd \nimport matplotlib.pyplot as plt\n%matplotlib inline \n"
        },
        {
            "cell_type": "code",
            "execution_count": 2,
            "metadata": {},
            "outputs": [],
            "source": "# The code was removed by Watson Studio for sharing."
        },
        {
            "cell_type": "code",
            "execution_count": 3,
            "metadata": {},
            "outputs": [
                {
                    "data": {
                        "text/html": "<div>\n<style scoped>\n    .dataframe tbody tr th:only-of-type {\n        vertical-align: middle;\n    }\n\n    .dataframe tbody tr th {\n        vertical-align: top;\n    }\n\n    .dataframe thead th {\n        text-align: right;\n    }\n</style>\n<table border=\"1\" class=\"dataframe\">\n  <thead>\n    <tr style=\"text-align: right;\">\n      <th></th>\n      <th>Country</th>\n      <th>Year</th>\n      <th>Status</th>\n      <th>Life expectancy</th>\n      <th>Adult Mortality</th>\n      <th>infant deaths</th>\n      <th>Alcohol</th>\n      <th>percentage expenditure</th>\n      <th>Hepatitis B</th>\n      <th>Measles</th>\n      <th>...</th>\n      <th>Polio</th>\n      <th>Total expenditure</th>\n      <th>Diphtheria</th>\n      <th>HIV/AIDS</th>\n      <th>GDP</th>\n      <th>Population</th>\n      <th>thinness  1-19 years</th>\n      <th>thinness 5-9 years</th>\n      <th>Income composition of resources</th>\n      <th>Schooling</th>\n    </tr>\n  </thead>\n  <tbody>\n    <tr>\n      <th>0</th>\n      <td>Afghanistan</td>\n      <td>2015</td>\n      <td>Developing</td>\n      <td>65.0</td>\n      <td>263.0</td>\n      <td>62</td>\n      <td>0.01</td>\n      <td>71.279624</td>\n      <td>65.0</td>\n      <td>1154</td>\n      <td>...</td>\n      <td>6.0</td>\n      <td>8.16</td>\n      <td>65.0</td>\n      <td>0.1</td>\n      <td>584.259210</td>\n      <td>33736494.0</td>\n      <td>17.2</td>\n      <td>17.3</td>\n      <td>0.479</td>\n      <td>10.1</td>\n    </tr>\n    <tr>\n      <th>1</th>\n      <td>Afghanistan</td>\n      <td>2014</td>\n      <td>Developing</td>\n      <td>59.9</td>\n      <td>271.0</td>\n      <td>64</td>\n      <td>0.01</td>\n      <td>73.523582</td>\n      <td>62.0</td>\n      <td>492</td>\n      <td>...</td>\n      <td>58.0</td>\n      <td>8.18</td>\n      <td>62.0</td>\n      <td>0.1</td>\n      <td>612.696514</td>\n      <td>327582.0</td>\n      <td>17.5</td>\n      <td>17.5</td>\n      <td>0.476</td>\n      <td>10.0</td>\n    </tr>\n    <tr>\n      <th>2</th>\n      <td>Afghanistan</td>\n      <td>2013</td>\n      <td>Developing</td>\n      <td>59.9</td>\n      <td>268.0</td>\n      <td>66</td>\n      <td>0.01</td>\n      <td>73.219243</td>\n      <td>64.0</td>\n      <td>430</td>\n      <td>...</td>\n      <td>62.0</td>\n      <td>8.13</td>\n      <td>64.0</td>\n      <td>0.1</td>\n      <td>631.744976</td>\n      <td>31731688.0</td>\n      <td>17.7</td>\n      <td>17.7</td>\n      <td>0.470</td>\n      <td>9.9</td>\n    </tr>\n    <tr>\n      <th>3</th>\n      <td>Afghanistan</td>\n      <td>2012</td>\n      <td>Developing</td>\n      <td>59.5</td>\n      <td>272.0</td>\n      <td>69</td>\n      <td>0.01</td>\n      <td>78.184215</td>\n      <td>67.0</td>\n      <td>2787</td>\n      <td>...</td>\n      <td>67.0</td>\n      <td>8.52</td>\n      <td>67.0</td>\n      <td>0.1</td>\n      <td>669.959000</td>\n      <td>3696958.0</td>\n      <td>17.9</td>\n      <td>18.0</td>\n      <td>0.463</td>\n      <td>9.8</td>\n    </tr>\n    <tr>\n      <th>4</th>\n      <td>Afghanistan</td>\n      <td>2011</td>\n      <td>Developing</td>\n      <td>59.2</td>\n      <td>275.0</td>\n      <td>71</td>\n      <td>0.01</td>\n      <td>7.097109</td>\n      <td>68.0</td>\n      <td>3013</td>\n      <td>...</td>\n      <td>68.0</td>\n      <td>7.87</td>\n      <td>68.0</td>\n      <td>0.1</td>\n      <td>63.537231</td>\n      <td>2978599.0</td>\n      <td>18.2</td>\n      <td>18.2</td>\n      <td>0.454</td>\n      <td>9.5</td>\n    </tr>\n  </tbody>\n</table>\n<p>5 rows \u00d7 22 columns</p>\n</div>",
                        "text/plain": "       Country  Year      Status  Life expectancy   Adult Mortality  \\\n0  Afghanistan  2015  Developing              65.0            263.0   \n1  Afghanistan  2014  Developing              59.9            271.0   \n2  Afghanistan  2013  Developing              59.9            268.0   \n3  Afghanistan  2012  Developing              59.5            272.0   \n4  Afghanistan  2011  Developing              59.2            275.0   \n\n   infant deaths  Alcohol  percentage expenditure  Hepatitis B  Measles   ...  \\\n0             62     0.01               71.279624         65.0      1154  ...   \n1             64     0.01               73.523582         62.0       492  ...   \n2             66     0.01               73.219243         64.0       430  ...   \n3             69     0.01               78.184215         67.0      2787  ...   \n4             71     0.01                7.097109         68.0      3013  ...   \n\n   Polio  Total expenditure  Diphtheria    HIV/AIDS         GDP  Population  \\\n0    6.0               8.16         65.0        0.1  584.259210  33736494.0   \n1   58.0               8.18         62.0        0.1  612.696514    327582.0   \n2   62.0               8.13         64.0        0.1  631.744976  31731688.0   \n3   67.0               8.52         67.0        0.1  669.959000   3696958.0   \n4   68.0               7.87         68.0        0.1   63.537231   2978599.0   \n\n    thinness  1-19 years   thinness 5-9 years  \\\n0                   17.2                 17.3   \n1                   17.5                 17.5   \n2                   17.7                 17.7   \n3                   17.9                 18.0   \n4                   18.2                 18.2   \n\n   Income composition of resources  Schooling  \n0                            0.479       10.1  \n1                            0.476       10.0  \n2                            0.470        9.9  \n3                            0.463        9.8  \n4                            0.454        9.5  \n\n[5 rows x 22 columns]"
                    },
                    "execution_count": 3,
                    "metadata": {},
                    "output_type": "execute_result"
                }
            ],
            "source": "df.head()"
        },
        {
            "cell_type": "code",
            "execution_count": 4,
            "metadata": {},
            "outputs": [
                {
                    "data": {
                        "text/plain": "(2938, 22)"
                    },
                    "execution_count": 4,
                    "metadata": {},
                    "output_type": "execute_result"
                }
            ],
            "source": "#data preprocessing\ndf.shape\n"
        },
        {
            "cell_type": "code",
            "execution_count": 5,
            "metadata": {},
            "outputs": [
                {
                    "data": {
                        "text/html": "<div>\n<style scoped>\n    .dataframe tbody tr th:only-of-type {\n        vertical-align: middle;\n    }\n\n    .dataframe tbody tr th {\n        vertical-align: top;\n    }\n\n    .dataframe thead th {\n        text-align: right;\n    }\n</style>\n<table border=\"1\" class=\"dataframe\">\n  <thead>\n    <tr style=\"text-align: right;\">\n      <th></th>\n      <th>Year</th>\n      <th>Life expectancy</th>\n      <th>Adult Mortality</th>\n      <th>infant deaths</th>\n      <th>Alcohol</th>\n      <th>percentage expenditure</th>\n      <th>Hepatitis B</th>\n      <th>Measles</th>\n      <th>BMI</th>\n      <th>under-five deaths</th>\n      <th>Polio</th>\n      <th>Total expenditure</th>\n      <th>Diphtheria</th>\n      <th>HIV/AIDS</th>\n      <th>GDP</th>\n      <th>Population</th>\n      <th>thinness  1-19 years</th>\n      <th>thinness 5-9 years</th>\n      <th>Income composition of resources</th>\n      <th>Schooling</th>\n    </tr>\n  </thead>\n  <tbody>\n    <tr>\n      <th>count</th>\n      <td>2938.000000</td>\n      <td>2928.000000</td>\n      <td>2928.000000</td>\n      <td>2938.000000</td>\n      <td>2744.000000</td>\n      <td>2938.000000</td>\n      <td>2385.000000</td>\n      <td>2938.000000</td>\n      <td>2904.000000</td>\n      <td>2938.000000</td>\n      <td>2919.000000</td>\n      <td>2712.00000</td>\n      <td>2919.000000</td>\n      <td>2938.000000</td>\n      <td>2490.000000</td>\n      <td>2.286000e+03</td>\n      <td>2904.000000</td>\n      <td>2904.000000</td>\n      <td>2771.000000</td>\n      <td>2775.000000</td>\n    </tr>\n    <tr>\n      <th>mean</th>\n      <td>2007.518720</td>\n      <td>69.224932</td>\n      <td>164.796448</td>\n      <td>30.303948</td>\n      <td>4.602861</td>\n      <td>738.251295</td>\n      <td>80.940461</td>\n      <td>2419.592240</td>\n      <td>38.321247</td>\n      <td>42.035739</td>\n      <td>82.550188</td>\n      <td>5.93819</td>\n      <td>82.324084</td>\n      <td>1.742103</td>\n      <td>7483.158469</td>\n      <td>1.275338e+07</td>\n      <td>4.839704</td>\n      <td>4.870317</td>\n      <td>0.627551</td>\n      <td>11.992793</td>\n    </tr>\n    <tr>\n      <th>std</th>\n      <td>4.613841</td>\n      <td>9.523867</td>\n      <td>124.292079</td>\n      <td>117.926501</td>\n      <td>4.052413</td>\n      <td>1987.914858</td>\n      <td>25.070016</td>\n      <td>11467.272489</td>\n      <td>20.044034</td>\n      <td>160.445548</td>\n      <td>23.428046</td>\n      <td>2.49832</td>\n      <td>23.716912</td>\n      <td>5.077785</td>\n      <td>14270.169342</td>\n      <td>6.101210e+07</td>\n      <td>4.420195</td>\n      <td>4.508882</td>\n      <td>0.210904</td>\n      <td>3.358920</td>\n    </tr>\n    <tr>\n      <th>min</th>\n      <td>2000.000000</td>\n      <td>36.300000</td>\n      <td>1.000000</td>\n      <td>0.000000</td>\n      <td>0.010000</td>\n      <td>0.000000</td>\n      <td>1.000000</td>\n      <td>0.000000</td>\n      <td>1.000000</td>\n      <td>0.000000</td>\n      <td>3.000000</td>\n      <td>0.37000</td>\n      <td>2.000000</td>\n      <td>0.100000</td>\n      <td>1.681350</td>\n      <td>3.400000e+01</td>\n      <td>0.100000</td>\n      <td>0.100000</td>\n      <td>0.000000</td>\n      <td>0.000000</td>\n    </tr>\n    <tr>\n      <th>25%</th>\n      <td>2004.000000</td>\n      <td>63.100000</td>\n      <td>74.000000</td>\n      <td>0.000000</td>\n      <td>0.877500</td>\n      <td>4.685343</td>\n      <td>77.000000</td>\n      <td>0.000000</td>\n      <td>19.300000</td>\n      <td>0.000000</td>\n      <td>78.000000</td>\n      <td>4.26000</td>\n      <td>78.000000</td>\n      <td>0.100000</td>\n      <td>463.935626</td>\n      <td>1.957932e+05</td>\n      <td>1.600000</td>\n      <td>1.500000</td>\n      <td>0.493000</td>\n      <td>10.100000</td>\n    </tr>\n    <tr>\n      <th>50%</th>\n      <td>2008.000000</td>\n      <td>72.100000</td>\n      <td>144.000000</td>\n      <td>3.000000</td>\n      <td>3.755000</td>\n      <td>64.912906</td>\n      <td>92.000000</td>\n      <td>17.000000</td>\n      <td>43.500000</td>\n      <td>4.000000</td>\n      <td>93.000000</td>\n      <td>5.75500</td>\n      <td>93.000000</td>\n      <td>0.100000</td>\n      <td>1766.947595</td>\n      <td>1.386542e+06</td>\n      <td>3.300000</td>\n      <td>3.300000</td>\n      <td>0.677000</td>\n      <td>12.300000</td>\n    </tr>\n    <tr>\n      <th>75%</th>\n      <td>2012.000000</td>\n      <td>75.700000</td>\n      <td>228.000000</td>\n      <td>22.000000</td>\n      <td>7.702500</td>\n      <td>441.534144</td>\n      <td>97.000000</td>\n      <td>360.250000</td>\n      <td>56.200000</td>\n      <td>28.000000</td>\n      <td>97.000000</td>\n      <td>7.49250</td>\n      <td>97.000000</td>\n      <td>0.800000</td>\n      <td>5910.806335</td>\n      <td>7.420359e+06</td>\n      <td>7.200000</td>\n      <td>7.200000</td>\n      <td>0.779000</td>\n      <td>14.300000</td>\n    </tr>\n    <tr>\n      <th>max</th>\n      <td>2015.000000</td>\n      <td>89.000000</td>\n      <td>723.000000</td>\n      <td>1800.000000</td>\n      <td>17.870000</td>\n      <td>19479.911610</td>\n      <td>99.000000</td>\n      <td>212183.000000</td>\n      <td>87.300000</td>\n      <td>2500.000000</td>\n      <td>99.000000</td>\n      <td>17.60000</td>\n      <td>99.000000</td>\n      <td>50.600000</td>\n      <td>119172.741800</td>\n      <td>1.293859e+09</td>\n      <td>27.700000</td>\n      <td>28.600000</td>\n      <td>0.948000</td>\n      <td>20.700000</td>\n    </tr>\n  </tbody>\n</table>\n</div>",
                        "text/plain": "              Year  Life expectancy   Adult Mortality  infant deaths  \\\ncount  2938.000000       2928.000000      2928.000000    2938.000000   \nmean   2007.518720         69.224932       164.796448      30.303948   \nstd       4.613841          9.523867       124.292079     117.926501   \nmin    2000.000000         36.300000         1.000000       0.000000   \n25%    2004.000000         63.100000        74.000000       0.000000   \n50%    2008.000000         72.100000       144.000000       3.000000   \n75%    2012.000000         75.700000       228.000000      22.000000   \nmax    2015.000000         89.000000       723.000000    1800.000000   \n\n           Alcohol  percentage expenditure  Hepatitis B       Measles   \\\ncount  2744.000000             2938.000000  2385.000000    2938.000000   \nmean      4.602861              738.251295    80.940461    2419.592240   \nstd       4.052413             1987.914858    25.070016   11467.272489   \nmin       0.010000                0.000000     1.000000       0.000000   \n25%       0.877500                4.685343    77.000000       0.000000   \n50%       3.755000               64.912906    92.000000      17.000000   \n75%       7.702500              441.534144    97.000000     360.250000   \nmax      17.870000            19479.911610    99.000000  212183.000000   \n\n              BMI   under-five deaths         Polio  Total expenditure  \\\ncount  2904.000000         2938.000000  2919.000000         2712.00000   \nmean     38.321247           42.035739    82.550188            5.93819   \nstd      20.044034          160.445548    23.428046            2.49832   \nmin       1.000000            0.000000     3.000000            0.37000   \n25%      19.300000            0.000000    78.000000            4.26000   \n50%      43.500000            4.000000    93.000000            5.75500   \n75%      56.200000           28.000000    97.000000            7.49250   \nmax      87.300000         2500.000000    99.000000           17.60000   \n\n       Diphtheria      HIV/AIDS            GDP    Population  \\\ncount  2919.000000  2938.000000    2490.000000  2.286000e+03   \nmean     82.324084     1.742103    7483.158469  1.275338e+07   \nstd      23.716912     5.077785   14270.169342  6.101210e+07   \nmin       2.000000     0.100000       1.681350  3.400000e+01   \n25%      78.000000     0.100000     463.935626  1.957932e+05   \n50%      93.000000     0.100000    1766.947595  1.386542e+06   \n75%      97.000000     0.800000    5910.806335  7.420359e+06   \nmax      99.000000    50.600000  119172.741800  1.293859e+09   \n\n        thinness  1-19 years   thinness 5-9 years  \\\ncount            2904.000000          2904.000000   \nmean                4.839704             4.870317   \nstd                 4.420195             4.508882   \nmin                 0.100000             0.100000   \n25%                 1.600000             1.500000   \n50%                 3.300000             3.300000   \n75%                 7.200000             7.200000   \nmax                27.700000            28.600000   \n\n       Income composition of resources    Schooling  \ncount                      2771.000000  2775.000000  \nmean                          0.627551    11.992793  \nstd                           0.210904     3.358920  \nmin                           0.000000     0.000000  \n25%                           0.493000    10.100000  \n50%                           0.677000    12.300000  \n75%                           0.779000    14.300000  \nmax                           0.948000    20.700000  "
                    },
                    "execution_count": 5,
                    "metadata": {},
                    "output_type": "execute_result"
                }
            ],
            "source": "df.describe()"
        },
        {
            "cell_type": "code",
            "execution_count": 6,
            "metadata": {},
            "outputs": [],
            "source": "#selecting "
        },
        {
            "cell_type": "code",
            "execution_count": 7,
            "metadata": {},
            "outputs": [
                {
                    "data": {
                        "text/plain": "Developing    2426\nDeveloped      512\nName: Status, dtype: int64"
                    },
                    "execution_count": 7,
                    "metadata": {},
                    "output_type": "execute_result"
                }
            ],
            "source": "df['Status'].value_counts()"
        },
        {
            "cell_type": "code",
            "execution_count": 8,
            "metadata": {},
            "outputs": [],
            "source": "change = {\"Status\":{ \"Developing\": 0\n         ,\"Developed\": 1}}\ndf.replace(change,inplace=True)\ndf['Status']=df[['Status']].astype('int')"
        },
        {
            "cell_type": "code",
            "execution_count": 9,
            "metadata": {},
            "outputs": [
                {
                    "data": {
                        "text/html": "<div>\n<style scoped>\n    .dataframe tbody tr th:only-of-type {\n        vertical-align: middle;\n    }\n\n    .dataframe tbody tr th {\n        vertical-align: top;\n    }\n\n    .dataframe thead th {\n        text-align: right;\n    }\n</style>\n<table border=\"1\" class=\"dataframe\">\n  <thead>\n    <tr style=\"text-align: right;\">\n      <th></th>\n      <th>Country</th>\n      <th>Year</th>\n      <th>Status</th>\n      <th>Life expectancy</th>\n      <th>Adult Mortality</th>\n      <th>infant deaths</th>\n      <th>Alcohol</th>\n      <th>percentage expenditure</th>\n      <th>Hepatitis B</th>\n      <th>Measles</th>\n      <th>...</th>\n      <th>Polio</th>\n      <th>Total expenditure</th>\n      <th>Diphtheria</th>\n      <th>HIV/AIDS</th>\n      <th>GDP</th>\n      <th>Population</th>\n      <th>thinness  1-19 years</th>\n      <th>thinness 5-9 years</th>\n      <th>Income composition of resources</th>\n      <th>Schooling</th>\n    </tr>\n  </thead>\n  <tbody>\n    <tr>\n      <th>0</th>\n      <td>Afghanistan</td>\n      <td>2015</td>\n      <td>0</td>\n      <td>65.0</td>\n      <td>263.0</td>\n      <td>62</td>\n      <td>0.01</td>\n      <td>71.279624</td>\n      <td>65.0</td>\n      <td>1154</td>\n      <td>...</td>\n      <td>6.0</td>\n      <td>8.16</td>\n      <td>65.0</td>\n      <td>0.1</td>\n      <td>584.259210</td>\n      <td>33736494.0</td>\n      <td>17.2</td>\n      <td>17.3</td>\n      <td>0.479</td>\n      <td>10.1</td>\n    </tr>\n    <tr>\n      <th>1</th>\n      <td>Afghanistan</td>\n      <td>2014</td>\n      <td>0</td>\n      <td>59.9</td>\n      <td>271.0</td>\n      <td>64</td>\n      <td>0.01</td>\n      <td>73.523582</td>\n      <td>62.0</td>\n      <td>492</td>\n      <td>...</td>\n      <td>58.0</td>\n      <td>8.18</td>\n      <td>62.0</td>\n      <td>0.1</td>\n      <td>612.696514</td>\n      <td>327582.0</td>\n      <td>17.5</td>\n      <td>17.5</td>\n      <td>0.476</td>\n      <td>10.0</td>\n    </tr>\n    <tr>\n      <th>2</th>\n      <td>Afghanistan</td>\n      <td>2013</td>\n      <td>0</td>\n      <td>59.9</td>\n      <td>268.0</td>\n      <td>66</td>\n      <td>0.01</td>\n      <td>73.219243</td>\n      <td>64.0</td>\n      <td>430</td>\n      <td>...</td>\n      <td>62.0</td>\n      <td>8.13</td>\n      <td>64.0</td>\n      <td>0.1</td>\n      <td>631.744976</td>\n      <td>31731688.0</td>\n      <td>17.7</td>\n      <td>17.7</td>\n      <td>0.470</td>\n      <td>9.9</td>\n    </tr>\n    <tr>\n      <th>3</th>\n      <td>Afghanistan</td>\n      <td>2012</td>\n      <td>0</td>\n      <td>59.5</td>\n      <td>272.0</td>\n      <td>69</td>\n      <td>0.01</td>\n      <td>78.184215</td>\n      <td>67.0</td>\n      <td>2787</td>\n      <td>...</td>\n      <td>67.0</td>\n      <td>8.52</td>\n      <td>67.0</td>\n      <td>0.1</td>\n      <td>669.959000</td>\n      <td>3696958.0</td>\n      <td>17.9</td>\n      <td>18.0</td>\n      <td>0.463</td>\n      <td>9.8</td>\n    </tr>\n    <tr>\n      <th>4</th>\n      <td>Afghanistan</td>\n      <td>2011</td>\n      <td>0</td>\n      <td>59.2</td>\n      <td>275.0</td>\n      <td>71</td>\n      <td>0.01</td>\n      <td>7.097109</td>\n      <td>68.0</td>\n      <td>3013</td>\n      <td>...</td>\n      <td>68.0</td>\n      <td>7.87</td>\n      <td>68.0</td>\n      <td>0.1</td>\n      <td>63.537231</td>\n      <td>2978599.0</td>\n      <td>18.2</td>\n      <td>18.2</td>\n      <td>0.454</td>\n      <td>9.5</td>\n    </tr>\n  </tbody>\n</table>\n<p>5 rows \u00d7 22 columns</p>\n</div>",
                        "text/plain": "       Country  Year  Status  Life expectancy   Adult Mortality  \\\n0  Afghanistan  2015       0              65.0            263.0   \n1  Afghanistan  2014       0              59.9            271.0   \n2  Afghanistan  2013       0              59.9            268.0   \n3  Afghanistan  2012       0              59.5            272.0   \n4  Afghanistan  2011       0              59.2            275.0   \n\n   infant deaths  Alcohol  percentage expenditure  Hepatitis B  Measles   ...  \\\n0             62     0.01               71.279624         65.0      1154  ...   \n1             64     0.01               73.523582         62.0       492  ...   \n2             66     0.01               73.219243         64.0       430  ...   \n3             69     0.01               78.184215         67.0      2787  ...   \n4             71     0.01                7.097109         68.0      3013  ...   \n\n   Polio  Total expenditure  Diphtheria    HIV/AIDS         GDP  Population  \\\n0    6.0               8.16         65.0        0.1  584.259210  33736494.0   \n1   58.0               8.18         62.0        0.1  612.696514    327582.0   \n2   62.0               8.13         64.0        0.1  631.744976  31731688.0   \n3   67.0               8.52         67.0        0.1  669.959000   3696958.0   \n4   68.0               7.87         68.0        0.1   63.537231   2978599.0   \n\n    thinness  1-19 years   thinness 5-9 years  \\\n0                   17.2                 17.3   \n1                   17.5                 17.5   \n2                   17.7                 17.7   \n3                   17.9                 18.0   \n4                   18.2                 18.2   \n\n   Income composition of resources  Schooling  \n0                            0.479       10.1  \n1                            0.476       10.0  \n2                            0.470        9.9  \n3                            0.463        9.8  \n4                            0.454        9.5  \n\n[5 rows x 22 columns]"
                    },
                    "execution_count": 9,
                    "metadata": {},
                    "output_type": "execute_result"
                }
            ],
            "source": "df.head()"
        },
        {
            "cell_type": "code",
            "execution_count": 10,
            "metadata": {},
            "outputs": [],
            "source": "df.columns\nmissing_values = df.isnull()"
        },
        {
            "cell_type": "code",
            "execution_count": 11,
            "metadata": {},
            "outputs": [
                {
                    "name": "stdout",
                    "output_type": "stream",
                    "text": "Country\nFalse    2938\nName: Country, dtype: int64\n \nYear\nFalse    2938\nName: Year, dtype: int64\n \nStatus\nFalse    2938\nName: Status, dtype: int64\n \nLife expectancy \nFalse    2928\nTrue       10\nName: Life expectancy , dtype: int64\n \nAdult Mortality\nFalse    2928\nTrue       10\nName: Adult Mortality, dtype: int64\n \ninfant deaths\nFalse    2938\nName: infant deaths, dtype: int64\n \nAlcohol\nFalse    2744\nTrue      194\nName: Alcohol, dtype: int64\n \npercentage expenditure\nFalse    2938\nName: percentage expenditure, dtype: int64\n \nHepatitis B\nFalse    2385\nTrue      553\nName: Hepatitis B, dtype: int64\n \nMeasles \nFalse    2938\nName: Measles , dtype: int64\n \n BMI \nFalse    2904\nTrue       34\nName:  BMI , dtype: int64\n \nunder-five deaths \nFalse    2938\nName: under-five deaths , dtype: int64\n \nPolio\nFalse    2919\nTrue       19\nName: Polio, dtype: int64\n \nTotal expenditure\nFalse    2712\nTrue      226\nName: Total expenditure, dtype: int64\n \nDiphtheria \nFalse    2919\nTrue       19\nName: Diphtheria , dtype: int64\n \n HIV/AIDS\nFalse    2938\nName:  HIV/AIDS, dtype: int64\n \nGDP\nFalse    2490\nTrue      448\nName: GDP, dtype: int64\n \nPopulation\nFalse    2286\nTrue      652\nName: Population, dtype: int64\n \n thinness  1-19 years\nFalse    2904\nTrue       34\nName:  thinness  1-19 years, dtype: int64\n \n thinness 5-9 years\nFalse    2904\nTrue       34\nName:  thinness 5-9 years, dtype: int64\n \nIncome composition of resources\nFalse    2771\nTrue      167\nName: Income composition of resources, dtype: int64\n \nSchooling\nFalse    2775\nTrue      163\nName: Schooling, dtype: int64\n \n"
                }
            ],
            "source": "#finding out missing value\n\nfor col in missing_values.columns.values:\n    print(col)\n    print(missing_values[col].value_counts())\n    print(\" \")\n    "
        },
        {
            "cell_type": "code",
            "execution_count": 12,
            "metadata": {},
            "outputs": [],
            "source": "#dropping unnecessary row and columns\ndf.drop(columns=['Country'],axis=0,inplace=True)\ndf.dropna(axis=0,inplace=True)\n"
        },
        {
            "cell_type": "code",
            "execution_count": 13,
            "metadata": {},
            "outputs": [
                {
                    "data": {
                        "text/plain": "Index(['Year', 'Status', 'Life expectancy ', 'Adult Mortality',\n       'infant deaths', 'Alcohol', 'percentage expenditure', 'Hepatitis B',\n       'Measles ', ' BMI ', 'under-five deaths ', 'Polio', 'Total expenditure',\n       'Diphtheria ', ' HIV/AIDS', 'GDP', 'Population',\n       ' thinness  1-19 years', ' thinness 5-9 years',\n       'Income composition of resources', 'Schooling'],\n      dtype='object')"
                    },
                    "execution_count": 13,
                    "metadata": {},
                    "output_type": "execute_result"
                }
            ],
            "source": "df.columns"
        },
        {
            "cell_type": "code",
            "execution_count": 14,
            "metadata": {},
            "outputs": [
                {
                    "data": {
                        "text/plain": "(1649, 21)"
                    },
                    "execution_count": 14,
                    "metadata": {},
                    "output_type": "execute_result"
                }
            ],
            "source": "df.shape"
        },
        {
            "cell_type": "code",
            "execution_count": 15,
            "metadata": {},
            "outputs": [],
            "source": "#selecting only relevant features\n\ndf1 = df[['Year', 'Status', 'Life expectancy ', 'Adult Mortality',\n       'infant deaths', 'Alcohol', 'percentage expenditure', 'Hepatitis B',\n       'Measles ', ' BMI ', 'under-five deaths ', 'Polio', 'Total expenditure',\n       'Diphtheria ', ' HIV/AIDS', 'GDP', 'Population',\n       ' thinness  1-19 years', ' thinness 5-9 years',\n       'Income composition of resources', 'Schooling']]"
        },
        {
            "cell_type": "code",
            "execution_count": 16,
            "metadata": {},
            "outputs": [],
            "source": "X = df1[['Year', 'Status', 'Adult Mortality',\n       'infant deaths', 'Alcohol', 'percentage expenditure', 'Hepatitis B',\n       'Measles ', ' BMI ', 'under-five deaths ', 'Polio', 'Total expenditure',\n       'Diphtheria ', ' HIV/AIDS', 'GDP', 'Population',\n       ' thinness  1-19 years', ' thinness 5-9 years',\n       'Income composition of resources', 'Schooling']]\ny= df1[['Life expectancy ']]"
        },
        {
            "cell_type": "code",
            "execution_count": 17,
            "metadata": {},
            "outputs": [],
            "source": "#splitting data\nfrom sklearn.model_selection import train_test_split"
        },
        {
            "cell_type": "code",
            "execution_count": 18,
            "metadata": {},
            "outputs": [],
            "source": "xtrain,xtest,ytrain,ytest = train_test_split(X,y,test_size = 0.2,random_state=1)"
        },
        {
            "cell_type": "code",
            "execution_count": 19,
            "metadata": {},
            "outputs": [
                {
                    "name": "stdout",
                    "output_type": "stream",
                    "text": "(1319, 20) (330, 20) (1319, 1) (330, 1)\n"
                }
            ],
            "source": "print(xtrain.shape,xtest.shape,ytrain.shape,ytest.shape)"
        },
        {
            "cell_type": "code",
            "execution_count": 20,
            "metadata": {},
            "outputs": [],
            "source": "#importing linear regression\nfrom sklearn.linear_model import LinearRegression"
        },
        {
            "cell_type": "code",
            "execution_count": 21,
            "metadata": {},
            "outputs": [],
            "source": "lr = LinearRegression()"
        },
        {
            "cell_type": "code",
            "execution_count": 22,
            "metadata": {},
            "outputs": [
                {
                    "data": {
                        "text/plain": "LinearRegression(copy_X=True, fit_intercept=True, n_jobs=None,\n         normalize=False)"
                    },
                    "execution_count": 22,
                    "metadata": {},
                    "output_type": "execute_result"
                }
            ],
            "source": "lr.fit(xtrain,ytrain)"
        },
        {
            "cell_type": "code",
            "execution_count": 23,
            "metadata": {},
            "outputs": [
                {
                    "data": {
                        "text/plain": "0.8540057559700043"
                    },
                    "execution_count": 23,
                    "metadata": {},
                    "output_type": "execute_result"
                }
            ],
            "source": "lr.score(xtest,ytest)"
        },
        {
            "cell_type": "code",
            "execution_count": 24,
            "metadata": {},
            "outputs": [],
            "source": "#model Evaluation\nfrom sklearn.metrics import r2_score"
        },
        {
            "cell_type": "code",
            "execution_count": 25,
            "metadata": {},
            "outputs": [],
            "source": "predicted_y = lr.predict(xtest)"
        },
        {
            "cell_type": "code",
            "execution_count": 26,
            "metadata": {},
            "outputs": [
                {
                    "data": {
                        "text/plain": "0.8540057559700043"
                    },
                    "execution_count": 26,
                    "metadata": {},
                    "output_type": "execute_result"
                }
            ],
            "source": "r2_score(ytest,predicted_y)"
        },
        {
            "cell_type": "code",
            "execution_count": 27,
            "metadata": {},
            "outputs": [
                {
                    "data": {
                        "text/plain": "array([[84.43074553],\n       [69.19047426],\n       [70.11820042],\n       [72.57817429],\n       [71.63789866]])"
                    },
                    "execution_count": 27,
                    "metadata": {},
                    "output_type": "execute_result"
                }
            ],
            "source": "predicted_y[0:5]"
        },
        {
            "cell_type": "code",
            "execution_count": 28,
            "metadata": {},
            "outputs": [
                {
                    "data": {
                        "text/html": "<div>\n<style scoped>\n    .dataframe tbody tr th:only-of-type {\n        vertical-align: middle;\n    }\n\n    .dataframe tbody tr th {\n        vertical-align: top;\n    }\n\n    .dataframe thead th {\n        text-align: right;\n    }\n</style>\n<table border=\"1\" class=\"dataframe\">\n  <thead>\n    <tr style=\"text-align: right;\">\n      <th></th>\n      <th>Life expectancy</th>\n    </tr>\n  </thead>\n  <tbody>\n    <tr>\n      <th>254</th>\n      <td>78.0</td>\n    </tr>\n    <tr>\n      <th>2850</th>\n      <td>73.0</td>\n    </tr>\n    <tr>\n      <th>2657</th>\n      <td>69.7</td>\n    </tr>\n    <tr>\n      <th>987</th>\n      <td>73.9</td>\n    </tr>\n    <tr>\n      <th>2214</th>\n      <td>75.0</td>\n    </tr>\n  </tbody>\n</table>\n</div>",
                        "text/plain": "      Life expectancy \n254               78.0\n2850              73.0\n2657              69.7\n987               73.9\n2214              75.0"
                    },
                    "execution_count": 28,
                    "metadata": {},
                    "output_type": "execute_result"
                }
            ],
            "source": "ytest[0:5]"
        },
        {
            "cell_type": "code",
            "execution_count": 29,
            "metadata": {},
            "outputs": [
                {
                    "data": {
                        "text/plain": "3.342945846541548"
                    },
                    "execution_count": 29,
                    "metadata": {},
                    "output_type": "execute_result"
                }
            ],
            "source": "from sklearn.metrics import mean_squared_error\nfrom math import sqrt\n\nrms = sqrt(mean_squared_error(ytest, predicted_y))\nrms"
        },
        {
            "cell_type": "code",
            "execution_count": 30,
            "metadata": {},
            "outputs": [
                {
                    "name": "stderr",
                    "output_type": "stream",
                    "text": "2020-07-02 05:23:00,376 - watson_machine_learning_client.metanames - WARNING - 'AUTHOR_EMAIL' meta prop is deprecated. It will be ignored.\n"
                }
            ],
            "source": "from watson_machine_learning_client import WatsonMachineLearningAPIClient"
        },
        {
            "cell_type": "code",
            "execution_count": 31,
            "metadata": {},
            "outputs": [],
            "source": "wml_credentials = {\n  \"apikey\": \"gv2hsN5xG_5w91yF6cw1wADrlFR-O8PMsslkBu2Y2tGP\",\n  \"iam_apikey_description\": \"Auto-generated for key e934cc8b-82f0-4f98-9bb6-d157cbf91736\",\n  \"iam_apikey_name\": \"wdp-writer\",\n  \"iam_role_crn\": \"crn:v1:bluemix:public:iam::::serviceRole:Writer\",\n  \"iam_serviceid_crn\": \"crn:v1:bluemix:public:iam-identity::a/43266cba9967401fbd39f836d3f8f7bd::serviceid:ServiceId-213872fd-e9d4-4d4d-aeea-5f5f9a8b3c06\",\n  \"instance_id\": \"be62309d-89b8-4d21-9a33-22b9c555ccd1\",\n  \"url\": \"https://eu-gb.ml.cloud.ibm.com\"\n}"
        },
        {
            "cell_type": "code",
            "execution_count": 32,
            "metadata": {},
            "outputs": [],
            "source": "client = WatsonMachineLearningAPIClient(wml_credentials)"
        },
        {
            "cell_type": "code",
            "execution_count": 33,
            "metadata": {},
            "outputs": [],
            "source": "metadata = {\n    client.repository.ModelMetaNames.AUTHOR_NAME : 'Ashish',\n    client.repository.ModelMetaNames.AUTHOR_EMAIL : 'cse.180310424@silicon.ac.in',\n    client.repository.ModelMetaNames.NAME : 'Life_Expectancy_Prediction'\n}"
        },
        {
            "cell_type": "code",
            "execution_count": 34,
            "metadata": {},
            "outputs": [
                {
                    "data": {
                        "text/plain": "{'metadata': {'guid': '00b304d5-b353-459f-982c-4546d78f3095',\n  'url': 'https://eu-gb.ml.cloud.ibm.com/v3/wml_instances/be62309d-89b8-4d21-9a33-22b9c555ccd1/published_models/00b304d5-b353-459f-982c-4546d78f3095',\n  'created_at': '2020-07-02T05:23:00.556Z',\n  'modified_at': '2020-07-02T05:23:00.611Z'},\n 'entity': {'runtime_environment': 'python-3.6',\n  'learning_configuration_url': 'https://eu-gb.ml.cloud.ibm.com/v3/wml_instances/be62309d-89b8-4d21-9a33-22b9c555ccd1/published_models/00b304d5-b353-459f-982c-4546d78f3095/learning_configuration',\n  'author': {'name': 'Ashish'},\n  'name': 'Life_Expectancy_Prediction',\n  'learning_iterations_url': 'https://eu-gb.ml.cloud.ibm.com/v3/wml_instances/be62309d-89b8-4d21-9a33-22b9c555ccd1/published_models/00b304d5-b353-459f-982c-4546d78f3095/learning_iterations',\n  'feedback_url': 'https://eu-gb.ml.cloud.ibm.com/v3/wml_instances/be62309d-89b8-4d21-9a33-22b9c555ccd1/published_models/00b304d5-b353-459f-982c-4546d78f3095/feedback',\n  'latest_version': {'url': 'https://eu-gb.ml.cloud.ibm.com/v3/ml_assets/models/00b304d5-b353-459f-982c-4546d78f3095/versions/e4184528-7cf2-4cf4-a0b7-9f25d665d591',\n   'guid': 'e4184528-7cf2-4cf4-a0b7-9f25d665d591',\n   'created_at': '2020-07-02T05:23:00.611Z'},\n  'model_type': 'scikit-learn-0.20',\n  'deployments': {'count': 0,\n   'url': 'https://eu-gb.ml.cloud.ibm.com/v3/wml_instances/be62309d-89b8-4d21-9a33-22b9c555ccd1/published_models/00b304d5-b353-459f-982c-4546d78f3095/deployments'},\n  'evaluation_metrics_url': 'https://eu-gb.ml.cloud.ibm.com/v3/wml_instances/be62309d-89b8-4d21-9a33-22b9c555ccd1/published_models/00b304d5-b353-459f-982c-4546d78f3095/evaluation_metrics'}}"
                    },
                    "execution_count": 34,
                    "metadata": {},
                    "output_type": "execute_result"
                }
            ],
            "source": "stored_data = client.repository.store_model(lr, meta_props=metadata)\nstored_data"
        },
        {
            "cell_type": "code",
            "execution_count": 35,
            "metadata": {},
            "outputs": [
                {
                    "data": {
                        "text/plain": "'00b304d5-b353-459f-982c-4546d78f3095'"
                    },
                    "execution_count": 35,
                    "metadata": {},
                    "output_type": "execute_result"
                }
            ],
            "source": "guid = client.repository.get_model_uid(stored_data)\nguid"
        },
        {
            "cell_type": "code",
            "execution_count": 36,
            "metadata": {},
            "outputs": [
                {
                    "name": "stdout",
                    "output_type": "stream",
                    "text": "\n\n#######################################################################################\n\nSynchronous deployment creation for uid: '00b304d5-b353-459f-982c-4546d78f3095' started\n\n#######################################################################################\n\n\nINITIALIZING\nDEPLOY_SUCCESS\n\n\n------------------------------------------------------------------------------------------------\nSuccessfully finished deployment creation, deployment_uid='deb09231-126e-4333-a577-4fada49ab6b6'\n------------------------------------------------------------------------------------------------\n\n\n"
                }
            ],
            "source": "deploy = client.deployments.create(guid)"
        },
        {
            "cell_type": "code",
            "execution_count": 37,
            "metadata": {},
            "outputs": [
                {
                    "name": "stdout",
                    "output_type": "stream",
                    "text": "------------------------------------  -------------------  ------  --------------  ------------------------  -----------------  -------------\nGUID                                  NAME                 TYPE    STATE           CREATED                   FRAMEWORK          ARTIFACT TYPE\ndeb09231-126e-4333-a577-4fada49ab6b6  Artifact deployment  online  DEPLOY_SUCCESS  2020-07-02T05:23:02.945Z  scikit-learn-0.20  model\n1406a28f-676d-4ee8-b82f-9a1421cc6802  Artifact deployment  online  DEPLOY_SUCCESS  2020-07-01T19:22:57.035Z  scikit-learn-0.20  model\n------------------------------------  -------------------  ------  --------------  ------------------------  -----------------  -------------\n"
                }
            ],
            "source": "client.deployments.list()"
        },
        {
            "cell_type": "code",
            "execution_count": 38,
            "metadata": {},
            "outputs": [
                {
                    "data": {
                        "text/plain": "{'metadata': {'guid': 'deb09231-126e-4333-a577-4fada49ab6b6',\n  'url': 'https://eu-gb.ml.cloud.ibm.com/v3/wml_instances/be62309d-89b8-4d21-9a33-22b9c555ccd1/deployments/deb09231-126e-4333-a577-4fada49ab6b6',\n  'created_at': '2020-07-02T05:23:02.945Z',\n  'modified_at': '2020-07-02T05:23:03.115Z'},\n 'entity': {'runtime_environment': 'python-3.6',\n  'name': 'Artifact deployment',\n  'scoring_url': 'https://eu-gb.ml.cloud.ibm.com/v3/wml_instances/be62309d-89b8-4d21-9a33-22b9c555ccd1/deployments/deb09231-126e-4333-a577-4fada49ab6b6/online',\n  'deployable_asset': {'name': 'Life_Expectancy_Prediction',\n   'url': 'https://eu-gb.ml.cloud.ibm.com/v3/wml_instances/be62309d-89b8-4d21-9a33-22b9c555ccd1/published_models/00b304d5-b353-459f-982c-4546d78f3095',\n   'guid': '00b304d5-b353-459f-982c-4546d78f3095',\n   'created_at': '2020-07-02T05:23:02.924Z',\n   'type': 'model'},\n  'description': 'Description of deployment',\n  'status_details': {'status': 'DEPLOY_SUCCESS'},\n  'model_type': 'scikit-learn-0.20',\n  'status': 'DEPLOY_SUCCESS',\n  'type': 'online',\n  'deployed_version': {'url': 'https://eu-gb.ml.cloud.ibm.com/v3/ml_assets/models/00b304d5-b353-459f-982c-4546d78f3095/versions/e4184528-7cf2-4cf4-a0b7-9f25d665d591',\n   'guid': 'e4184528-7cf2-4cf4-a0b7-9f25d665d591'}}}"
                    },
                    "execution_count": 38,
                    "metadata": {},
                    "output_type": "execute_result"
                }
            ],
            "source": "deploy"
        },
        {
            "cell_type": "code",
            "execution_count": 39,
            "metadata": {},
            "outputs": [
                {
                    "data": {
                        "text/plain": "'https://eu-gb.ml.cloud.ibm.com/v3/wml_instances/be62309d-89b8-4d21-9a33-22b9c555ccd1/deployments/deb09231-126e-4333-a577-4fada49ab6b6/online'"
                    },
                    "execution_count": 39,
                    "metadata": {},
                    "output_type": "execute_result"
                }
            ],
            "source": "scoring_endpoints = client.deployments.get_scoring_url(deploy)\nscoring_endpoints"
        },
        {
            "cell_type": "code",
            "execution_count": null,
            "metadata": {},
            "outputs": [],
            "source": ""
        },
        {
            "cell_type": "code",
            "execution_count": null,
            "metadata": {},
            "outputs": [],
            "source": ""
        }
    ],
    "metadata": {
        "kernelspec": {
            "display_name": "Python 3.6",
            "language": "python",
            "name": "python3"
        },
        "language_info": {
            "codemirror_mode": {
                "name": "ipython",
                "version": 3
            },
            "file_extension": ".py",
            "mimetype": "text/x-python",
            "name": "python",
            "nbconvert_exporter": "python",
            "pygments_lexer": "ipython3",
            "version": "3.6.9"
        }
    },
    "nbformat": 4,
    "nbformat_minor": 4
}